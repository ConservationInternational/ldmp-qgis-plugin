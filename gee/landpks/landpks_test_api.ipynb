{
 "cells": [
  {
   "cell_type": "markdown",
   "metadata": {},
   "source": [
    "# Example of how to access Trends.Earth API for LandPKS"
   ]
  },
  {
   "cell_type": "code",
   "execution_count": 1,
   "metadata": {},
   "outputs": [],
   "source": [
    "import json\n",
    "import requests\n",
    "import time\n",
    "from getpass import getpass\n",
    "\n",
    "import ipyplot\n",
    "from IPython.display import Image"
   ]
  },
  {
   "cell_type": "markdown",
   "metadata": {},
   "source": [
    "##  Login"
   ]
  },
  {
   "cell_type": "code",
   "execution_count": 2,
   "metadata": {},
   "outputs": [
    {
     "name": "stdin",
     "output_type": "stream",
     "text": [
      "Email:  azvoleff@gmail.com\n",
      "Password:  ····················\n"
     ]
    },
    {
     "name": "stdout",
     "output_type": "stream",
     "text": [
      "Logged in as azvoleff@gmail.com.\n"
     ]
    }
   ],
   "source": [
    "api_url = \"https://api.trends.earth\"\n",
    "email, password = input('Email: '), getpass('Password: ')\n",
    "creds = { \"email\" : email, \"password\" : password }\n",
    "auth_url = api_url + \"/auth\"\n",
    "\n",
    "auth_resp = requests.post(auth_url, json=creds)\n",
    "if auth_resp.status_code == 200:\n",
    "    print(\"Logged in as {}.\".format(email))\n",
    "    token = auth_resp.json()['access_token']\n",
    "else:\n",
    "    print(\"Error logging in. Sever returned {}.\".format(auth_resp.status_code))"
   ]
  },
  {
   "cell_type": "markdown",
   "metadata": {},
   "source": [
    "## Submit task and poll for results"
   ]
  },
  {
   "cell_type": "code",
   "execution_count": null,
   "metadata": {},
   "outputs": [
    {
     "name": "stdout",
     "output_type": "stream",
     "text": [
      "Submission took 0.07634687423706055 seconds\n",
      "<Response [200]>\n"
     ]
    }
   ],
   "source": [
    "start_time = time.time()\n",
    "params = {'user': 'azvoleff@gmail.com',\n",
    "          'lang': 'en',\n",
    "          \"year_start\": 2001,\n",
    "          \"year_end\": 2019,\n",
    "          \"geojson\": \"{\\\"coordinates\\\": [36.43006246, -0.71011347], \\\"type\\\": \\\"Point\\\"}\",\n",
    "         }\n",
    "resp_run = requests.post(api_url + '/api/v1/script/landpks-1-0-3/run',\n",
    "                         json=params,\n",
    "                         headers={'Authorization' : 'Bearer {}'.format(token)})\n",
    "print('Submission took {} seconds'.format(time.time() - start_time))\n",
    "\n",
    "def get_results(id):\n",
    "    n = 0\n",
    "    while True:\n",
    "        resp = requests.get(api_url + '/api/v1/execution/{}'.format(id),\n",
    "                            json={'user': 'azvoleff@gmail.com'},\n",
    "                            headers={'Authorization' : 'Bearer {}'.format(token)})\n",
    "        if resp.json()['data']['status'] == 'FINISHED':\n",
    "            return resp.json()\n",
    "        elif resp.json()['data']['status'] == 'FAILED':\n",
    "            return 'Failed'\n",
    "        elif n > 400:\n",
    "            return 'Timeout'\n",
    "        time.sleep(0.2)\n",
    "        n += 1\n",
    "print(resp_run)\n",
    "        \n",
    "res = get_results(resp_run.json()['data']['id'])\n",
    "print('Processing took {} seconds'.format(time.time() - start_time))\n",
    "print('Return from server:')\n",
    "# The required data is in the 'results' dictionary. Images will be deleted after 14 days.\n",
    "#print(json.dumps(res['data']['results'], indent=4))\n",
    "images = [res['data']['results']['landtrend_plot']['url']['url'],\n",
    "          res['data']['results']['base_image']['url']['url'],\n",
    "          res['data']['results']['greenness']['url']['url'],\n",
    "          res['data']['results']['greenness_trend']['url']['url']]\n",
    "ipyplot.plot_images(images, img_width=600)"
   ]
  },
  {
   "cell_type": "code",
   "execution_count": 9,
   "metadata": {},
   "outputs": [
    {
     "name": "stdout",
     "output_type": "stream",
     "text": [
      "Failed\n"
     ]
    },
    {
     "ename": "TypeError",
     "evalue": "string indices must be integers",
     "output_type": "error",
     "traceback": [
      "\u001b[1;31m---------------------------------------------------------------------------\u001b[0m",
      "\u001b[1;31mTypeError\u001b[0m                                 Traceback (most recent call last)",
      "\u001b[1;32m<ipython-input-9-d51f7d8fe644>\u001b[0m in \u001b[0;36m<module>\u001b[1;34m\u001b[0m\n\u001b[0;32m      1\u001b[0m \u001b[0mprint\u001b[0m\u001b[1;33m(\u001b[0m\u001b[0mres\u001b[0m\u001b[1;33m)\u001b[0m\u001b[1;33m\u001b[0m\u001b[1;33m\u001b[0m\u001b[0m\n\u001b[1;32m----> 2\u001b[1;33m \u001b[0mprint\u001b[0m\u001b[1;33m(\u001b[0m\u001b[0mjson\u001b[0m\u001b[1;33m.\u001b[0m\u001b[0mdumps\u001b[0m\u001b[1;33m(\u001b[0m\u001b[0mres\u001b[0m\u001b[1;33m[\u001b[0m\u001b[1;34m'data'\u001b[0m\u001b[1;33m]\u001b[0m\u001b[1;33m[\u001b[0m\u001b[1;34m'results'\u001b[0m\u001b[1;33m]\u001b[0m\u001b[1;33m,\u001b[0m \u001b[0mindent\u001b[0m\u001b[1;33m=\u001b[0m\u001b[1;36m4\u001b[0m\u001b[1;33m)\u001b[0m\u001b[1;33m)\u001b[0m\u001b[1;33m\u001b[0m\u001b[1;33m\u001b[0m\u001b[0m\n\u001b[0m",
      "\u001b[1;31mTypeError\u001b[0m: string indices must be integers"
     ]
    }
   ],
   "source": [
    "print(res)\n",
    "print(json.dumps(res['data']['results'], indent=4))"
   ]
  }
 ],
 "metadata": {
  "kernelspec": {
   "display_name": "Python 3",
   "language": "python",
   "name": "python3"
  },
  "language_info": {
   "codemirror_mode": {
    "name": "ipython",
    "version": 3
   },
   "file_extension": ".py",
   "mimetype": "text/x-python",
   "name": "python",
   "nbconvert_exporter": "python",
   "pygments_lexer": "ipython3",
   "version": "3.8.3"
  }
 },
 "nbformat": 4,
 "nbformat_minor": 4
}
