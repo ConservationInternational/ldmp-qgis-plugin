{
 "cells": [
  {
   "cell_type": "markdown",
   "metadata": {},
   "source": [
    "# Example of how to access Trends.Earth API for LandPKS"
   ]
  },
  {
   "cell_type": "code",
   "execution_count": 86,
   "metadata": {},
   "outputs": [],
   "source": [
    "import json\n",
    "import requests\n",
    "import time\n",
    "from getpass import getpass"
   ]
  },
  {
   "cell_type": "markdown",
   "metadata": {},
   "source": [
    "##  Login"
   ]
  },
  {
   "cell_type": "code",
   "execution_count": 87,
   "metadata": {},
   "outputs": [
    {
     "name": "stdin",
     "output_type": "stream",
     "text": [
      "Email:  azvoleff@gmail.com\n",
      "Password:  ····················\n"
     ]
    },
    {
     "name": "stdout",
     "output_type": "stream",
     "text": [
      "Logged in as azvoleff@gmail.com.\n"
     ]
    }
   ],
   "source": [
    "api_url = \"https://api.trends.earth\"\n",
    "email, password = input('Email: '), getpass('Password: ')\n",
    "creds = { \"email\" : email, \"password\" : password }\n",
    "auth_url = api_url + \"/auth\"\n",
    "\n",
    "auth_resp = requests.post(auth_url, json=creds)\n",
    "if auth_resp.status_code == 200:\n",
    "    print(\"Logged in as {}.\".format(email))\n",
    "    token = auth_resp.json()['access_token']\n",
    "else:\n",
    "    print(\"Error logging in. Sever returned {}.\".format(auth_resp.status_code))"
   ]
  },
  {
   "cell_type": "markdown",
   "metadata": {},
   "source": [
    "## Submit task and poll for results"
   ]
  },
  {
   "cell_type": "code",
   "execution_count": 96,
   "metadata": {},
   "outputs": [
    {
     "name": "stdout",
     "output_type": "stream",
     "text": [
      "Submission took 0.08605146408081055 seconds\n",
      "Processing took 3.630160331726074 seconds\n",
      "Return from server:\n",
      "{\n",
      "    \"data\": {\n",
      "        \"end_date\": \"2020-09-14T19:11:24.387129\",\n",
      "        \"id\": \"a256d790-9501-4e4e-9228-fb3f598017a0\",\n",
      "        \"params\": {\n",
      "            \"crs\": \"GEOGCS[\\\"WGS 84\\\",DATUM[\\\"WGS_1984\\\",SPHEROID[\\\"WGS 84\\\",6378137,298.257223563,AUTHORITY[\\\"EPSG\\\",\\\"7030\\\"]],AUTHORITY[\\\"EPSG\\\",\\\"6326\\\"]],PRIMEM[\\\"Greenwich\\\",0,AUTHORITY[\\\"EPSG\\\",\\\"8901\\\"]],UNIT[\\\"degree\\\",0.0174532925199433,AUTHORITY[\\\"EPSG\\\",\\\"9122\\\"]],AUTHORITY[\\\"EPSG\\\",\\\"4326\\\"]]\",\n",
      "            \"geojsons\": \"[{\\\"coordinates\\\": [[[36.42906373252601, -0.7104876821965512], [36.43086049996199, -0.7104876821965512], [36.43086049996199, -0.708678946028039], [36.42906373252601, -0.708678946028039], [36.42906373252601, -0.7104876821965512]]], \\\"type\\\": \\\"Polygon\\\"}]\",\n",
      "            \"lang\": \"en\",\n",
      "            \"user\": \"azvoleff@gmail.com\"\n",
      "        },\n",
      "        \"progress\": 100,\n",
      "        \"results\": {\n",
      "            \"base_image\": {\n",
      "                \"about\": \"This is some about text, with a link in it to the <a href='http://trends.earth'>Trends.Earth</a> web page.\",\n",
      "                \"date\": \"2019-12-06\",\n",
      "                \"lang\": \"EN\",\n",
      "                \"name\": \"base_image\",\n",
      "                \"title\": \"This is a title\",\n",
      "                \"type\": \"ImageryPNG\",\n",
      "                \"url\": {\n",
      "                    \"md5Hash\": \"8619623f0418ecb95f46faafe08ef7e1\",\n",
      "                    \"url\": \"https://storage.googleapis.com/ldmt/tmpogge6ysf.png\"\n",
      "                }\n",
      "            },\n",
      "            \"greenness\": {\n",
      "                \"about\": \"This is some about text, with a link in it to the <a href='http://trends.earth'>Trends.Earth</a> web page.\",\n",
      "                \"date\": \"2019-01-01\",\n",
      "                \"lang\": \"EN\",\n",
      "                \"name\": \"greenness\",\n",
      "                \"title\": \"This is a title\",\n",
      "                \"type\": \"ImageryPNG\",\n",
      "                \"url\": {\n",
      "                    \"md5Hash\": \"62bcdc290da7d8dac014f3ac61fed1aa\",\n",
      "                    \"url\": \"https://storage.googleapis.com/ldmt/tmpr2_1jbog.png\"\n",
      "                }\n",
      "            },\n",
      "            \"greenness_trend\": {\n",
      "                \"about\": \"This is some about text, with a link in it to the <a href='http://trends.earth'>Trends.Earth</a> web page.\",\n",
      "                \"date\": \"2019-01-01\",\n",
      "                \"lang\": \"EN\",\n",
      "                \"name\": \"greenness_trend\",\n",
      "                \"title\": \"This is a title\",\n",
      "                \"type\": \"ImageryPNG\",\n",
      "                \"url\": {\n",
      "                    \"md5Hash\": \"1db9728453fc7ca6a2410cbe53f60565\",\n",
      "                    \"url\": \"https://storage.googleapis.com/ldmt/tmp5d1x8djx.png\"\n",
      "                }\n",
      "            },\n",
      "            \"landtrend_plot\": {\n",
      "                \"about\": \"This is some about text, with a link in it to the <a href='http://trends.earth'>Trends.Earth</a> web page.\",\n",
      "                \"date\": \"2019-12-06\",\n",
      "                \"lang\": \"EN\",\n",
      "                \"name\": \"landtrend_plot\",\n",
      "                \"title\": \"This is a title\",\n",
      "                \"type\": \"ImageryPNG\",\n",
      "                \"url\": {\n",
      "                    \"md5Hash\": \"624bbb105a770f9118b97bd7a4d8f37e\",\n",
      "                    \"url\": \"https://storage.googleapis.com/ldmt/tmp291915ub.png\"\n",
      "                }\n",
      "            }\n",
      "        },\n",
      "        \"script_id\": \"bda57685-6b15-4ab7-8c42-b9ea67808847\",\n",
      "        \"start_date\": \"2020-09-14T19:11:21.280395\",\n",
      "        \"status\": \"FINISHED\",\n",
      "        \"user_id\": \"8510f787-60ae-4650-8c9e-a824e417386e\"\n",
      "    }\n",
      "}\n"
     ]
    }
   ],
   "source": [
    "start_time = time.time()\n",
    "params = {'user': 'azvoleff@gmail.com',\n",
    "          'lang': 'en',\n",
    "          \"crs\": \"GEOGCS[\\\"WGS 84\\\",DATUM[\\\"WGS_1984\\\",SPHEROID[\\\"WGS 84\\\",6378137,298.257223563,AUTHORITY[\\\"EPSG\\\",\\\"7030\\\"]],AUTHORITY[\\\"EPSG\\\",\\\"6326\\\"]],PRIMEM[\\\"Greenwich\\\",0,AUTHORITY[\\\"EPSG\\\",\\\"8901\\\"]],UNIT[\\\"degree\\\",0.0174532925199433,AUTHORITY[\\\"EPSG\\\",\\\"9122\\\"]],AUTHORITY[\\\"EPSG\\\",\\\"4326\\\"]]\",\n",
    "          \"geojsons\": \"[{\\\"coordinates\\\": [[[36.42906373252601, -0.7104876821965512], [36.43086049996199, -0.7104876821965512], [36.43086049996199, -0.708678946028039], [36.42906373252601, -0.708678946028039], [36.42906373252601, -0.7104876821965512]]], \\\"type\\\": \\\"Polygon\\\"}]\",\n",
    "         }\n",
    "resp_run = requests.post(api_url + '/api/v1/script/landpks-1-0-3/run',\n",
    "                         json=params,\n",
    "                         headers={'Authorization' : 'Bearer {}'.format(token)})\n",
    "print('Submission took {} seconds'.format(time.time() - start_time))\n",
    "\n",
    "def get_results(id):\n",
    "    n = 0\n",
    "    while True:\n",
    "        resp = requests.get(api_url + '/api/v1/execution/{}'.format(id),\n",
    "                            json={'user': 'azvoleff@gmail.com'},\n",
    "                            headers={'Authorization' : 'Bearer {}'.format(token)})\n",
    "        if resp.json()['data']['status'] == 'FINISHED':\n",
    "            return resp.json()\n",
    "        elif resp.json()['data']['status'] == 'FAILED':\n",
    "            return 'Failed'\n",
    "        elif n > 40:\n",
    "            return 'Timeout'\n",
    "        time.sleep(0.2)\n",
    "        n += 1\n",
    "        \n",
    "res = get_results(resp_run.json()['data']['id'])\n",
    "print('Processing took {} seconds'.format(time.time() - start_time))\n",
    "print('Return from server:')\n",
    "print(json.dumps(res, indent=4))\n",
    "\n",
    "# Images should be 1500 px wide\n"
   ]
  },
  {
   "cell_type": "code",
   "execution_count": 91,
   "metadata": {},
   "outputs": [
    {
     "name": "stdout",
     "output_type": "stream",
     "text": [
      "{\n",
      "    \"base_image\": {\n",
      "        \"about\": \"This is some about text, with a link in it to the <a href='http://trends.earth'>Trends.Earth</a> web page.\",\n",
      "        \"date\": \"2019-12-06\",\n",
      "        \"lang\": \"EN\",\n",
      "        \"name\": \"base_image\",\n",
      "        \"title\": \"This is a title\",\n",
      "        \"type\": \"ImageryPNG\",\n",
      "        \"url\": {\n",
      "            \"md5Hash\": null,\n",
      "            \"url\": \"https://storage.googleapis.com/ldmt/tmpfif8mnwx.png\"\n",
      "        }\n",
      "    },\n",
      "    \"greenness\": {\n",
      "        \"about\": \"This is some about text, with a link in it to the <a href='http://trends.earth'>Trends.Earth</a> web page.\",\n",
      "        \"date\": \"2019-01-01\",\n",
      "        \"lang\": \"EN\",\n",
      "        \"name\": \"greenness\",\n",
      "        \"title\": \"This is a title\",\n",
      "        \"type\": \"ImageryPNG\",\n",
      "        \"url\": {\n",
      "            \"md5Hash\": null,\n",
      "            \"url\": \"https://storage.googleapis.com/ldmt/tmpt7p6d38v.png\"\n",
      "        }\n",
      "    },\n",
      "    \"greenness_trend\": {\n",
      "        \"about\": \"This is some about text, with a link in it to the <a href='http://trends.earth'>Trends.Earth</a> web page.\",\n",
      "        \"date\": \"2019-01-01\",\n",
      "        \"lang\": \"EN\",\n",
      "        \"name\": \"greenness_trend\",\n",
      "        \"title\": \"This is a title\",\n",
      "        \"type\": \"ImageryPNG\",\n",
      "        \"url\": {\n",
      "            \"md5Hash\": null,\n",
      "            \"url\": \"https://storage.googleapis.com/ldmt/tmpob4zk6l1.png\"\n",
      "        }\n",
      "    },\n",
      "    \"landtrend_plot\": {\n",
      "        \"about\": \"This is some about text, with a link in it to the <a href='http://trends.earth'>Trends.Earth</a> web page.\",\n",
      "        \"date\": \"2019-12-06\",\n",
      "        \"lang\": \"EN\",\n",
      "        \"name\": \"landtrend_plot\",\n",
      "        \"title\": \"This is a title\",\n",
      "        \"type\": \"ImageryPNG\",\n",
      "        \"url\": {\n",
      "            \"md5Hash\": null,\n",
      "            \"url\": \"https://storage.googleapis.com/ldmt/tmpid9vpbi3.png\"\n",
      "        }\n",
      "    }\n",
      "}\n"
     ]
    }
   ],
   "source": [
    "# The required data is in the 'results' dictionary. Images will be deleted after 14 days.\n",
    "print(json.dumps(res['data']['results'], indent=4))"
   ]
  }
 ],
 "metadata": {
  "kernelspec": {
   "display_name": "Python 3",
   "language": "python",
   "name": "python3"
  },
  "language_info": {
   "codemirror_mode": {
    "name": "ipython",
    "version": 3
   },
   "file_extension": ".py",
   "mimetype": "text/x-python",
   "name": "python",
   "nbconvert_exporter": "python",
   "pygments_lexer": "ipython3",
   "version": "3.8.3"
  }
 },
 "nbformat": 4,
 "nbformat_minor": 4
}
