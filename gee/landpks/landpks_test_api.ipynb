{
 "cells": [
  {
   "cell_type": "markdown",
   "metadata": {},
   "source": [
    "# Example of how to access Trends.Earth API for LandPKS"
   ]
  },
  {
   "cell_type": "code",
   "execution_count": 1,
   "metadata": {},
   "outputs": [],
   "source": [
    "import json\n",
    "import requests\n",
    "import time\n",
    "from getpass import getpass\n",
    "\n",
    "import ipyplot\n",
    "from IPython.display import Image"
   ]
  },
  {
   "cell_type": "markdown",
   "metadata": {},
   "source": [
    "##  Login"
   ]
  },
  {
   "cell_type": "code",
   "execution_count": 2,
   "metadata": {},
   "outputs": [
    {
     "name": "stdin",
     "output_type": "stream",
     "text": [
      "Email:  azvoleff@gmail.com\n",
      "Password:  ····················\n"
     ]
    },
    {
     "name": "stdout",
     "output_type": "stream",
     "text": [
      "Logged in as azvoleff@gmail.com.\n"
     ]
    }
   ],
   "source": [
    "api_url = \"https://api.trends.earth\"\n",
    "email, password = input('Email: '), getpass('Password: ')\n",
    "creds = { \"email\" : email, \"password\" : password }\n",
    "auth_url = api_url + \"/auth\"\n",
    "\n",
    "auth_resp = requests.post(auth_url, json=creds)\n",
    "if auth_resp.status_code == 200:\n",
    "    print(\"Logged in as {}.\".format(email))\n",
    "    token = auth_resp.json()['access_token']\n",
    "else:\n",
    "    print(\"Error logging in. Sever returned {}.\".format(auth_resp.status_code))"
   ]
  },
  {
   "cell_type": "markdown",
   "metadata": {},
   "source": [
    "## Submit task and poll for results"
   ]
  },
  {
   "cell_type": "code",
   "execution_count": 4,
   "metadata": {},
   "outputs": [
    {
     "name": "stdout",
     "output_type": "stream",
     "text": [
      "Submission took 0.08816885948181152 seconds\n",
      "<Response [200]>\n",
      "Processing took 112.53911185264587 seconds\n",
      "Return from server:\n"
     ]
    },
    {
     "ename": "TypeError",
     "evalue": "string indices must be integers",
     "output_type": "error",
     "traceback": [
      "\u001b[1;31m---------------------------------------------------------------------------\u001b[0m",
      "\u001b[1;31mTypeError\u001b[0m                                 Traceback (most recent call last)",
      "\u001b[1;32m<ipython-input-4-906e30e65448>\u001b[0m in \u001b[0;36m<module>\u001b[1;34m\u001b[0m\n\u001b[0;32m     32\u001b[0m \u001b[1;31m# The required data is in the 'results' dictionary. Images will be deleted after 14 days.\u001b[0m\u001b[1;33m\u001b[0m\u001b[1;33m\u001b[0m\u001b[1;33m\u001b[0m\u001b[0m\n\u001b[0;32m     33\u001b[0m \u001b[1;31m#print(json.dumps(res['data']['results'], indent=4))\u001b[0m\u001b[1;33m\u001b[0m\u001b[1;33m\u001b[0m\u001b[1;33m\u001b[0m\u001b[0m\n\u001b[1;32m---> 34\u001b[1;33m images = [res['data']['results']['landtrend_plot']['url']['url'],\n\u001b[0m\u001b[0;32m     35\u001b[0m           \u001b[0mres\u001b[0m\u001b[1;33m[\u001b[0m\u001b[1;34m'data'\u001b[0m\u001b[1;33m]\u001b[0m\u001b[1;33m[\u001b[0m\u001b[1;34m'results'\u001b[0m\u001b[1;33m]\u001b[0m\u001b[1;33m[\u001b[0m\u001b[1;34m'base_image'\u001b[0m\u001b[1;33m]\u001b[0m\u001b[1;33m[\u001b[0m\u001b[1;34m'url'\u001b[0m\u001b[1;33m]\u001b[0m\u001b[1;33m[\u001b[0m\u001b[1;34m'url'\u001b[0m\u001b[1;33m]\u001b[0m\u001b[1;33m,\u001b[0m\u001b[1;33m\u001b[0m\u001b[1;33m\u001b[0m\u001b[0m\n\u001b[0;32m     36\u001b[0m           \u001b[0mres\u001b[0m\u001b[1;33m[\u001b[0m\u001b[1;34m'data'\u001b[0m\u001b[1;33m]\u001b[0m\u001b[1;33m[\u001b[0m\u001b[1;34m'results'\u001b[0m\u001b[1;33m]\u001b[0m\u001b[1;33m[\u001b[0m\u001b[1;34m'greenness'\u001b[0m\u001b[1;33m]\u001b[0m\u001b[1;33m[\u001b[0m\u001b[1;34m'url'\u001b[0m\u001b[1;33m]\u001b[0m\u001b[1;33m[\u001b[0m\u001b[1;34m'url'\u001b[0m\u001b[1;33m]\u001b[0m\u001b[1;33m,\u001b[0m\u001b[1;33m\u001b[0m\u001b[1;33m\u001b[0m\u001b[0m\n",
      "\u001b[1;31mTypeError\u001b[0m: string indices must be integers"
     ]
    }
   ],
   "source": [
    "start_time = time.time()\n",
    "params = {'user': 'azvoleff@gmail.com',\n",
    "          'lang': 'en',\n",
    "          \"year_start\": 2001,\n",
    "          \"year_end\": 2019,\n",
    "          \"geojson\": \"{\\\"coordinates\\\": [36.43006146, -0.71011347], \\\"type\\\": \\\"Point\\\"}\",\n",
    "         }\n",
    "resp_run = requests.post(api_url + '/api/v1/script/landpks-1-0-3/run',\n",
    "                         json=params,\n",
    "                         headers={'Authorization' : 'Bearer {}'.format(token)})\n",
    "print('Submission took {} seconds'.format(time.time() - start_time))\n",
    "\n",
    "def get_results(id):\n",
    "    n = 0\n",
    "    while True:\n",
    "        resp = requests.get(api_url + '/api/v1/execution/{}'.format(id),\n",
    "                            json={'user': 'azvoleff@gmail.com'},\n",
    "                            headers={'Authorization' : 'Bearer {}'.format(token)})\n",
    "        if resp.json()['data']['status'] == 'FINISHED':\n",
    "            return resp.json()\n",
    "        elif resp.json()['data']['status'] == 'FAILED':\n",
    "            return 'Failed'\n",
    "        elif n > 400:\n",
    "            return 'Timeout'\n",
    "        time.sleep(0.2)\n",
    "        n += 1\n",
    "print(resp_run)\n",
    "        \n",
    "res = get_results(resp_run.json()['data']['id'])\n",
    "print('Processing took {} seconds'.format(time.time() - start_time))\n",
    "print('Return from server:')\n",
    "# The required data is in the 'results' dictionary. Images will be deleted after 14 days.\n",
    "#print(json.dumps(res['data']['results'], indent=4))\n",
    "images = [res['data']['results']['landtrend_plot']['url']['url'],\n",
    "          res['data']['results']['base_image']['url']['url'],\n",
    "          res['data']['results']['greenness']['url']['url'],\n",
    "          res['data']['results']['greenness_trend']['url']['url']]\n",
    "ipyplot.plot_images(images, img_width=600)"
   ]
  },
  {
   "cell_type": "code",
   "execution_count": 19,
   "metadata": {},
   "outputs": [
    {
     "name": "stdout",
     "output_type": "stream",
     "text": [
      "{\n",
      "    \"base_image\": {\n",
      "        \"about\": \"Satellite image for the year {YEAR_END} centered around the site location.\",\n",
      "        \"date\": [\n",
      "            \"2019-01-01\",\n",
      "            \"2019-12-31\"\n",
      "        ],\n",
      "        \"lang\": \"EN\",\n",
      "        \"name\": \"base_image\",\n",
      "        \"title\": \"Satellite Image (2019)\",\n",
      "        \"type\": \"ImageryPNG\",\n",
      "        \"url\": {\n",
      "            \"md5Hash\": \"e0d351cd862414bc4b4da907c7712ca9\",\n",
      "            \"url\": \"https://storage.googleapis.com/ldmt/tmp8c7778sl.png\"\n",
      "        }\n",
      "    },\n",
      "    \"greenness\": {\n",
      "        \"about\": \"This map shows mean annual greenness for the period 2019/01/01 - 2019/12/31. Darker green areas indicate more abundant and healthier vegetation throughout the year. Yellow colors indicate areas with bare soil or sparce vegetation.\",\n",
      "        \"date\": [\n",
      "            \"2019-01-01\",\n",
      "            \"2019-12-31\"\n",
      "        ],\n",
      "        \"lang\": \"EN\",\n",
      "        \"name\": \"greenness\",\n",
      "        \"title\": \"Greeness (2019)\",\n",
      "        \"type\": \"ImageryPNG\",\n",
      "        \"url\": {\n",
      "            \"md5Hash\": \"1d1d00812e924971607e9e138f22738b\",\n",
      "            \"url\": \"https://storage.googleapis.com/ldmt/tmpkzk8xf57.png\"\n",
      "        }\n",
      "    },\n",
      "    \"greenness_trend\": {\n",
      "        \"about\": \"This map shows the changes in annual greenness for the period 2014/01/01 - 2019/12/31. Green areas have increased vegetation abundance or health during the period, yellow show stable areas and purple areas in which vegetation abundance or health has declined.\",\n",
      "        \"date\": [\n",
      "            \"2014-01-01\",\n",
      "            \"2019-12-31\"\n",
      "        ],\n",
      "        \"lang\": \"EN\",\n",
      "        \"name\": \"greenness_trend\",\n",
      "        \"title\": \"Greenness Trend (2014)\",\n",
      "        \"type\": \"ImageryPNG\",\n",
      "        \"url\": {\n",
      "            \"md5Hash\": \"0eb5b4674034088cd4cc7f58f3bf004c\",\n",
      "            \"url\": \"https://storage.googleapis.com/ldmt/tmp8iqx0bd5.png\"\n",
      "        }\n",
      "    },\n",
      "    \"landtrend_plot\": {\n",
      "        \"about\": \"Land cover (degradation)These plots show the mean annual greenness, total annual precipitation, and land cover type for the last 20 years in this site.\",\n",
      "        \"date\": [\n",
      "            \"2001-01-01\",\n",
      "            \"2019-12-31\"\n",
      "        ],\n",
      "        \"lang\": \"EN\",\n",
      "        \"name\": \"landtrend_plot\",\n",
      "        \"title\": \"Land and Climate Trends trends (2001 - 2019)\",\n",
      "        \"type\": \"ImageryPNG\",\n",
      "        \"url\": {\n",
      "            \"md5Hash\": \"4250258c0966488cc516fc772f44e5bc\",\n",
      "            \"url\": \"https://storage.googleapis.com/ldmt/tmpuzefjqb5.png\"\n",
      "        }\n",
      "    }\n",
      "}\n"
     ]
    }
   ],
   "source": [
    "print(json.dumps(res['data']['results'], indent=4))"
   ]
  }
 ],
 "metadata": {
  "kernelspec": {
   "display_name": "Python 3",
   "language": "python",
   "name": "python3"
  },
  "language_info": {
   "codemirror_mode": {
    "name": "ipython",
    "version": 3
   },
   "file_extension": ".py",
   "mimetype": "text/x-python",
   "name": "python",
   "nbconvert_exporter": "python",
   "pygments_lexer": "ipython3",
   "version": "3.8.3"
  }
 },
 "nbformat": 4,
 "nbformat_minor": 4
}
